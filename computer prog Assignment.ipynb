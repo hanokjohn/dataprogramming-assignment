{
 "cells": [
  {
   "cell_type": "markdown",
   "id": "d1494c88",
   "metadata": {},
   "source": [
    "What data type is each of the following"
   ]
  },
  {
   "cell_type": "code",
   "execution_count": 27,
   "id": "0fccf0f0",
   "metadata": {},
   "outputs": [
    {
     "name": "stdout",
     "output_type": "stream",
     "text": [
      "Data Types are shown below:\n",
      "data type of 5: System.Int32\n",
      "data type of 5.0: System.Double\n",
      "data type of 5 > 1: System.Boolean\n",
      "data type of '5': System.Char\n",
      "data type of 5 * 2: System.Int32\n",
      "data type of '5' * 2: System.Int32\n",
      "data type of '5' + '2': System.Int32\n",
      "data type of 5 / 2: System.Double\n",
      "data type of 5 % 2: System.Int32\n",
      "data type of 5,2,1: System.Int32[]\n",
      "data type of 5 == 3: System.Boolean\n",
      "data type for PI: System.Double\n"
     ]
    }
   ],
   "source": [
    "int[]array ={5,2,1};\n",
    "\n",
    "Console.WriteLine(\"Data Types are shown below:\");\n",
    "\n",
    "Console.WriteLine($\"data type of 5: {5.GetType()}\");\n",
    "\n",
    "Console.WriteLine($\"data type of 5.0: {5.0.GetType()}\");\n",
    "\n",
    "Console.WriteLine($\"data type of 5 > 1: {(5 > 1).GetType()}\");\n",
    "\n",
    "Console.WriteLine($\"data type of '5': {'5'.GetType()}\");\n",
    "\n",
    "Console.WriteLine($\"data type of 5 * 2: {(5 * 2).GetType()}\");\n",
    "\n",
    "Console.WriteLine($\"data type of '5' * 2: {('5' * 2).GetType()}\");\n",
    "\n",
    "Console.WriteLine($\"data type of '5' + '2': {('5' + '2').GetType()}\");\n",
    "\n",
    "Console.WriteLine($\"data type of 5 / 2: {(5.0 / 2).GetType()}\");\n",
    "\n",
    "Console.WriteLine($\"data type of 5 % 2: {(5 % 2).GetType()}\");\n",
    "\n",
    "Console.WriteLine($\"data type of 5,2,1: {array.GetType()}\");\n",
    "\n",
    "Console.WriteLine($\"data type of 5 == 3: {(5 == 3).GetType()}\");\n",
    "\n",
    "Console.WriteLine($\"data type for PI: {Math.PI.GetType()}\");\n"
   ]
  },
  {
   "cell_type": "markdown",
   "id": "222deefc",
   "metadata": {},
   "source": [
    "Write (and evaluate) C# expressions that answer these questions:\n",
    "a. How many letters are there in 'Supercalifragilisticexpialidocious'?\n",
    "b. Does 'Supercalifragilisticexpialidocious' contain 'ice' as a substring?                                                     \n",
    "c. Which of the following words is the longest: \n",
    "Supercalifragilisticexpialidocious, Honorificabilitudinitatibus, or \n",
    "Bababadalgharaghtakamminarronnkonn? \n",
    "d. Which composer comes first in the dictionary: 'Berlioz', 'Borodin', 'Brian', \n",
    "'Bartok', 'Bellini', 'Buxtehude', 'Bernstein'. Which one comes last?"
   ]
  },
  {
   "cell_type": "code",
   "execution_count": 42,
   "id": "7de82642",
   "metadata": {},
   "outputs": [
    {
     "name": "stdout",
     "output_type": "stream",
     "text": [
      " Number of letters in the word 'Supercalifragilisticexpialidocious' is: 34\n",
      "Does 'Supercalifragilisticexpialidocious' contain 'ice' as a substring? True\n",
      "Longest word is: Supercalifragilisticexpialidocious\n",
      "First composer in dictionary is: Bartok,Last composer in the dictionary is: Buxtehude\n"
     ]
    }
   ],
   "source": [
    "\n",
    "\n",
    "string word1 = \"Supercalifragilisticexpialidocious\";\n",
    "string word2 = \"Honorificabilitudinitatibus\";\n",
    "string word3 = \"Bababadalgharaghtakamminarronnkonn\";\n",
    "string[] composers = { \"Berlioz\", \"Borodin\", \"Brian\", \"Bartok\", \"Bellini\", \"Buxtehude\", \"Bernstein\" };\n",
    "\n",
    "\n",
    "int letterCount = word1.Length;\n",
    "\n",
    "\n",
    "bool containsIce = word1.Contains(\"ice\");\n",
    "\n",
    "\n",
    "string longestWord = word;\n",
    "if (word2.Length > longestWord.Length)\n",
    "{\n",
    "    longestWord = word2;\n",
    "}\n",
    "if (word3.Length > longestWord.Length)\n",
    "{\n",
    "    longestWord = word3;\n",
    "}\n",
    "\n",
    "\n",
    "Array.Sort(composers);\n",
    "string firstComposer = composers[0];\n",
    "string lastComposer = composers[composers.Length - 1];\n",
    "\n",
    "Console.WriteLine($\" Number of letters in the word '{word}' is: {letterCount}\");\n",
    "Console.WriteLine($\"Does '{word}' contain 'ice' as a substring? {containsIce}\");\n",
    "Console.WriteLine($\"Longest word is: {longestWord}\");\n",
    "Console.WriteLine($\"First composer in dictionary is: {firstComposer},Last composer in the dictionary is: {lastComposer}\");\n"
   ]
  },
  {
   "cell_type": "markdown",
   "id": "e54e3f34",
   "metadata": {},
   "source": [
    "Implement function triangleArea(a,b,c) that takes as input the lengths of the 3\n",
    "sides of a triangle and returns the area of the triangle. By Heron's formula, the area \n",
    "of a triangle with side lengths a, b, and c is\n",
    "s(s - a)(s -b)(s -c)\n",
    ", where \n",
    "s = (a+b+c)/2. \n",
    ">>> triangleArea(2,2,2)\n",
    "1.7320508075688772\n"
   ]
  },
  {
   "cell_type": "code",
   "execution_count": 11,
   "id": "5824f53d",
   "metadata": {},
   "outputs": [
    {
     "name": "stdout",
     "output_type": "stream",
     "text": [
      "1.7320508075688772\r\n"
     ]
    }
   ],
   "source": [
    "\n",
    "    \n",
    "        double area = TriangleArea(2, 2, 2);\n",
    "        Console.WriteLine(area);\n",
    "    \n",
    "\n",
    "    static double TriangleArea(double a, double b, double c)\n",
    "    {\n",
    "        // Calculate the semi-perimeter\n",
    "        double s = (a + b + c) / 2.0;\n",
    "\n",
    "        // Calculate the area using Heron's formula\n",
    "        double area = Math.Sqrt(s * (s - a) * (s - b) * (s - c));\n",
    "\n",
    "        return area;\n",
    "    }\n",
    "\n"
   ]
  },
  {
   "cell_type": "markdown",
   "id": "20005b27",
   "metadata": {},
   "source": [
    "Write a program in C# Sharp to separate odd and even integers in separate arrays. \n",
    "Go to the editor\n",
    "Test Data :\n",
    "Input the number of elements to be stored in the array :5\n",
    "Input 5 elements in the array :\n",
    "element - 0 : 25\n",
    "element - 1 : 47\n",
    "element - 2 : 42\n",
    "element - 3 : 56\n",
    "element - 4 : 32\n",
    "Expected Output:\n",
    "The Even elements are:\n",
    "42 56 32\n",
    "The Odd elements are :\n",
    "25 47"
   ]
  },
  {
   "cell_type": "code",
   "execution_count": 23,
   "id": "7d6844d0",
   "metadata": {},
   "outputs": [
    {
     "name": "stdout",
     "output_type": "stream",
     "text": [
      "Even numbers:\n",
      "42\n",
      "56\n",
      "32\n",
      "Odd numbers:\n",
      "25\n",
      "47\n"
     ]
    }
   ],
   "source": [
    "\n",
    "        int[] numbers = { 25, 47, 42, 56, 32 };\n",
    "        int[] evenNumbers = new int[numbers.Length];\n",
    "        int[] oddNumbers = new int[numbers.Length];\n",
    "        int evenCount = 0;\n",
    "        int oddCount = 0;\n",
    "\n",
    "        foreach (int number in numbers)\n",
    "        {\n",
    "            if (number % 2 == 0)\n",
    "            {\n",
    "                evenNumbers[evenCount] = number;\n",
    "                evenCount++;\n",
    "            }\n",
    "            else\n",
    "            {\n",
    "                oddNumbers[oddCount] = number;\n",
    "                oddCount++;\n",
    "            }\n",
    "        }\n",
    "\n",
    "        Console.WriteLine(\"Even numbers:\");\n",
    "        for (int i = 0; i < evenCount; i++)\n",
    "        {\n",
    "            Console.WriteLine(evenNumbers[i]);\n",
    "        }\n",
    "\n",
    "        Console.WriteLine(\"Odd numbers:\");\n",
    "        for (int i = 0; i < oddCount; i++)\n",
    "        {\n",
    "            Console.WriteLine(oddNumbers[i]);\n",
    "        }"
   ]
  },
  {
   "cell_type": "markdown",
   "id": "644c843a",
   "metadata": {},
   "source": [
    "a. Write a function inside(x,y,x1,y1,x2,y2) that returns True or False \n",
    "depending on whether the point (x,y) lies in the rectangle with lower left \n",
    "corner (x1,y1) and upper right corner (x2,y2).\n",
    ">>> inside(1,1,0,0,2,3)\n",
    "True\n",
    ">>> inside(-1,-1,0,0,2,3)\n",
    "False\n",
    "\n",
    "b. Use function inside() from part a. to write an expression that tests whether \n",
    "the point (1,1) lies in both of the following rectangles: one with lower left \n",
    "corner (0.3, 0.5) and upper right corner (1.1, 0.7) and the other with lower \n",
    "left corner (0.5, 0.2) and upper right corner (1.1, 2)"
   ]
  },
  {
   "cell_type": "code",
   "execution_count": 46,
   "id": "2ecbb130",
   "metadata": {},
   "outputs": [
    {
     "name": "stdout",
     "output_type": "stream",
     "text": [
      "True\n",
      "False\n"
     ]
    }
   ],
   "source": [
    "\n",
    "        bool ans1 = Inside(1, 1, 0, 0, 2, 3);\n",
    "        Console.WriteLine(ans1); \n",
    "\n",
    "        bool ans2 = Inside(1, 1, 0.3, 0.5, 1.1, 0.7);\n",
    "        bool ans3 = Inside(1, 1, 0.5, 0.2, 1.1, 2);\n",
    "\n",
    "        bool ans1Andans2 = ans2 && ans3;\n",
    "        Console.WriteLine(ans1Andans2); \n",
    "    \n",
    "\n",
    "    static bool Inside(double x, double y, double x1, double y1, double x2, double y2)\n",
    "    {\n",
    "        return x >= x1 && x <= x2 && y >= y1 && y <= y2;\n",
    "    }"
   ]
  },
  {
   "cell_type": "code",
   "execution_count": null,
   "id": "8d5b66c4",
   "metadata": {},
   "outputs": [],
   "source": []
  }
 ],
 "metadata": {
  "kernelspec": {
   "display_name": ".NET (C#)",
   "language": "C#",
   "name": ".net-csharp"
  },
  "language_info": {
   "file_extension": ".cs",
   "mimetype": "text/x-csharp",
   "name": "C#",
   "pygments_lexer": "csharp",
   "version": "8.0"
  }
 },
 "nbformat": 4,
 "nbformat_minor": 5
}
