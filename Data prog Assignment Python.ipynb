{
 "cells": [
  {
   "cell_type": "markdown",
   "id": "0bfbfb4e",
   "metadata": {},
   "source": [
    " You can turn a word into pig-Latin using the following two rules (simplified):\n",
    "• If the word starts with a consonant, move that letter to the end and append \n",
    "'ay'. For example, 'happy' becomes 'appyhay' and 'pencil' becomes 'encilpay'.\n",
    "• If the word starts with a vowel, simply append 'way' to the end of the word. \n",
    "For example, 'enter' becomes 'enterway' and 'other' becomes 'otherway' . For \n",
    "our purposes, there are 5 vowels: a, e, i, o, u (so we count y as a consonant).\n"
   ]
  },
  {
   "cell_type": "code",
   "execution_count": 24,
   "id": "74d83a16",
   "metadata": {},
   "outputs": [
    {
     "name": "stdout",
     "output_type": "stream",
     "text": [
      "appyhay\n",
      "enterway\n"
     ]
    }
   ],
   "source": [
    "def pig(word):\n",
    "\n",
    "    word = word.lower()\n",
    "\n",
    "    vowels = ['a','e','i','o','u']\n",
    "    \n",
    "    \n",
    "    if word[0] in vowels:\n",
    "        latin = word + 'way'\n",
    "    else:\n",
    "    \n",
    "        index = 0\n",
    "        while index < len(word) and word[index] not in vowels:\n",
    "            index += 1\n",
    "        \n",
    "        \n",
    "        latin = word[index:] + word[:index] + 'ay'\n",
    "    \n",
    "    return latin\n",
    "print(pig('Happy'))  \n",
    "print(pig('Enter'))  "
   ]
  },
  {
   "cell_type": "markdown",
   "id": "c2b25480",
   "metadata": {},
   "source": [
    "File bloodtype1.txt records blood-types of patients (A, B, AB, O or OO) at a clinic. \n",
    "Write a function bldcount() that reads the file with name name and reports (i.e., \n",
    "prints) how many patients there are in each bloodtype"
   ]
  },
  {
   "cell_type": "code",
   "execution_count": 38,
   "id": "c9fe5435",
   "metadata": {},
   "outputs": [
    {
     "name": "stdout",
     "output_type": "stream",
     "text": [
      "AB AB B O A A AB O AB A O O A A A O O O AB O A A A A A AB AB A AB O AB O A O O O AB O AB AB AB A A O \n",
      "\n",
      "There are 15 patients with blood group A\n",
      "There are 1 patients with blood group B\n",
      "There are 13 patients with blood group AB\n",
      "There are 15 patients with blood group O\n",
      "There are 0 patients with blood group OO\n"
     ]
    }
   ],
   "source": [
    "\n",
    "\n",
    "def bldcount(filename):\n",
    "    \n",
    "   \n",
    "\n",
    "    f = open(filename, \"r\")\n",
    "    \n",
    "   \n",
    "\n",
    "    get_data = f.read()\n",
    "    \n",
    "    print(get_data)\n",
    "\n",
    "    count = 0\n",
    "\n",
    "    split_array = get_data.split()\n",
    "\n",
    "    base_data = ['A','B','AB','O','OO']\n",
    "\n",
    "    for x in base_data:\n",
    "\n",
    "        count = split_array.count(x)\n",
    "\n",
    "        print(\"There are {0} patients with blood group {1}\".format(count,x))\n",
    "\n",
    "bldcount(\"bloodtype1.txt\")"
   ]
  },
  {
   "cell_type": "markdown",
   "id": "eaafd802",
   "metadata": {},
   "source": []
  },
  {
   "cell_type": "markdown",
   "id": "c2998725",
   "metadata": {},
   "source": [
    "Write a function curconv() that takes as input:\n",
    "1. a currency represented using a string (e.g., 'JPY' for the Japanese Yen or \n",
    "'EUR' for the Euro)\n",
    "2. an amount\n",
    "and then converts and returns the amount in US dollars."
   ]
  },
  {
   "cell_type": "code",
   "execution_count": 89,
   "id": "350b6436",
   "metadata": {},
   "outputs": [
    {
     "name": "stdout",
     "output_type": "stream",
     "text": [
      "EUR\n",
      "122.96544\n",
      "AUD\n",
      "103.45157\n"
     ]
    }
   ],
   "source": [
    "def curconv(currency, amount):\n",
    "   \n",
    "        \n",
    "        currency_rates = {}\n",
    "      \n",
    "        \n",
    "    \n",
    "        with open('currencies.txt', 'r') as file:\n",
    "            for line in file:\n",
    "               \n",
    "                parts = line.split()\n",
    "                code = parts[0]\n",
    "                rate = float(parts[1])\n",
    "                currency_rates[code] = rate\n",
    "                    \n",
    "        \n",
    "    \n",
    "        if currency in currency_rates:\n",
    "            print(currency)\n",
    "            \n",
    "            usd_amount = amount * currency_rates[currency]\n",
    "            return usd_amount\n",
    "        else:\n",
    "            print(currency)\n",
    "            return f\"Currency code '{currency}' not found in the currency rates.\"\n",
    "    \n",
    "\n",
    "\n",
    "print(curconv('EUR', 100))\n",
    "print(curconv('AUD', 100)) \n"
   ]
  },
  {
   "cell_type": "markdown",
   "id": "3e20d077",
   "metadata": {},
   "source": [
    "Each of the following will cause an exception (an error). Identify what type of \n",
    "exception each will cause"
   ]
  },
  {
   "cell_type": "code",
   "execution_count": 102,
   "id": "f2e8ac50",
   "metadata": {},
   "outputs": [
    {
     "name": "stdout",
     "output_type": "stream",
     "text": [
      "Error: unsupported operand type(s) for +: 'int' and 'str'\n",
      "Error: list index out of range\n",
      "Error: math domain error\n",
      "Error: name 'x' is not defined\n",
      "Error: [Errno 2] No such file or directory: 'non_existent_file.txt'\n"
     ]
    }
   ],
   "source": [
    "import math \n",
    "\n",
    "\n",
    "try:\n",
    "    output = 6 + 'a'\n",
    "except TypeError as e:\n",
    "    print(f\"Error: {e}\")\n",
    "\n",
    "\n",
    "try:\n",
    "    mlist = [1, 2, 3, 4, 5, 6, 7, 8, 9, 10]\n",
    "    item = mlist[12]\n",
    "except IndexError as e:\n",
    "    print(f\"Error: {e}\")\n",
    "\n",
    "\n",
    "try:\n",
    "    sroot = math.sqrt(-1.0)\n",
    "except ValueError as e:\n",
    "    print(f\"Error: {e}\")\n",
    "\n",
    "\n",
    "try:\n",
    "    print(x)\n",
    "except NameError as e:\n",
    "    print(f\"Error: {e}\")\n",
    "\n",
    "\n",
    "try:\n",
    "    with open('non_existent_file.txt', 'r') as file:\n",
    "        pass\n",
    "except FileNotFoundError as e:\n",
    "    print(f\"Error: {e}\")\n"
   ]
  },
  {
   "cell_type": "markdown",
   "id": "87fb27d0",
   "metadata": {},
   "source": [
    "Encryption is the process of hiding the meaning of a text by substituting letters in the \n",
    "message with other letters, according to some system. If the process is successful, no \n",
    "one but the intended recipient can understand the encrypted message. Cryptanalysis\n",
    "refers to attempts to undo the encryption, even if some details of the encryption are \n",
    "unknown (for example, if an encrypted message has been intercepted). The first step \n",
    "of cryptanalysis is often to build up a table of letter frequencies in the encrypted text. \n",
    "Assume that the string letters is already defined as \n",
    "'abcdefghijklmnopqrstuvwxyz'. Write a function called frequencies()\n",
    "that takes a string as its only parameter, and returns a list of integers, showing the \n",
    "number of times each character appears in the text. Your function may ignore any \n",
    "characters that are not in letters. "
   ]
  },
  {
   "cell_type": "code",
   "execution_count": 108,
   "id": "11e59957",
   "metadata": {},
   "outputs": [
    {
     "name": "stdout",
     "output_type": "stream",
     "text": [
      "[1, 0, 0, 0, 1, 0, 0, 0, 0, 0, 0, 1, 0, 0, 0, 2, 0, 0, 0, 0, 0, 0, 0, 0, 0, 0]\n"
     ]
    }
   ],
   "source": [
    "\n",
    "\n",
    "def frequencies(text):\n",
    "    \n",
    "    letters = 'abcdefghijklmnopqrstuvwxyz'\n",
    "    \n",
    "    \n",
    "    text = text.lower()\n",
    "    \n",
    "    \n",
    "    numberof_letter = Counter(char for char in text if char in letters)\n",
    "    \n",
    "    \n",
    "    frequwncyof_letter = [numberof_letter[letter] for letter in letters]\n",
    "    \n",
    "    return frequwncyof_letter\n",
    "\n",
    "\n",
    "\n",
    "text1 = 'apple'\n",
    "result1 = frequencies(text1)\n",
    "print(result1)  \n"
   ]
  },
  {
   "cell_type": "code",
   "execution_count": null,
   "id": "e69241a5",
   "metadata": {},
   "outputs": [],
   "source": []
  }
 ],
 "metadata": {
  "kernelspec": {
   "display_name": "Python 3 (ipykernel)",
   "language": "python",
   "name": "python3"
  },
  "language_info": {
   "codemirror_mode": {
    "name": "ipython",
    "version": 3
   },
   "file_extension": ".py",
   "mimetype": "text/x-python",
   "name": "python",
   "nbconvert_exporter": "python",
   "pygments_lexer": "ipython3",
   "version": "3.11.5"
  }
 },
 "nbformat": 4,
 "nbformat_minor": 5
}
